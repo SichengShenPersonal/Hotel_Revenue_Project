{
 "cells": [
  {
   "cell_type": "markdown",
   "id": "3c261369-ee50-49d7-8774-98e6c34e895d",
   "metadata": {},
   "source": [
    "# About Dataset"
   ]
  },
  {
   "cell_type": "markdown",
   "id": "5d36552d-830f-4d18-af74-a5b2e73ae812",
   "metadata": {},
   "source": [
    "This dataset contains information on a business's Amazon sales in India. It consists of seven files, with \"Amazon Sale Report.csv\" serving as the main file due to its contextual relevance and the large volume of data it contains. The SKU column allows this file to be linked to two other files: \"International Sale Report.csv\" and \"Sale Report.csv.\" The \"International Sale Report.csv\" file is presumed to capture sales to customers outside of India, while \"Sale Report.csv\" provides additional product details for the SKUs found in the first two files."
   ]
  },
  {
   "cell_type": "markdown",
   "id": "973553cf-8333-4082-b866-239002e755a2",
   "metadata": {},
   "source": [
    "# Import Data"
   ]
  },
  {
   "cell_type": "code",
   "execution_count": 1,
   "id": "b5258c83-a23a-46f3-9898-f7693a4d1da8",
   "metadata": {},
   "outputs": [],
   "source": [
    "import pandas as pd\n",
    "import numpy as np\n",
    "salesDf = pd.read_csv('C:/Users/siche/Desktop/projects/e_commerce/Row Data/Amazon_Sale_Report.csv', low_memory=False)\n",
    "intSalesDf = pd.read_csv('C:/Users/siche/Desktop/projects/e_commerce/Row Data/International sale Report.csv', low_memory=False)\n",
    "productsDf = pd.read_csv('C:/Users/siche/Desktop/projects/e_commerce/Row Data/Sale Report.csv', low_memory=False)"
   ]
  },
  {
   "cell_type": "markdown",
   "id": "3876d67f-ef82-4ad5-a576-5406e3c83aa4",
   "metadata": {},
   "source": [
    "# Clean Local Sales Data"
   ]
  },
  {
   "cell_type": "code",
   "execution_count": 2,
   "id": "e590cfff-95b6-41c5-ae5e-3c6f32081163",
   "metadata": {},
   "outputs": [
    {
     "name": "stdout",
     "output_type": "stream",
     "text": [
      "Data is from 03-31-22 to 06-29-22 \n",
      "\n",
      "Rows: 128975\n",
      "Columns: 24\n",
      "['index', 'Order ID', 'Date', 'Status', 'Fulfilment', 'Sales Channel ', 'ship-service-level', 'Style', 'SKU', 'Category', 'Size', 'ASIN', 'Courier Status', 'Qty', 'currency', 'Amount', 'ship-city', 'ship-state', 'ship-postal-code', 'ship-country', 'promotion-ids', 'B2B', 'fulfilled-by', 'Unnamed: 22'] \n",
      "\n",
      "Percentage of missing or null values in each column: \n",
      "index                  0.00\n",
      "Order ID               0.00\n",
      "Date                   0.00\n",
      "Status                 0.00\n",
      "Fulfilment             0.00\n",
      "Sales Channel          0.00\n",
      "ship-service-level     0.00\n",
      "Style                  0.00\n",
      "SKU                    0.00\n",
      "Category               0.00\n",
      "Size                   0.00\n",
      "ASIN                   0.00\n",
      "Courier Status         5.33\n",
      "Qty                    0.00\n",
      "currency               6.04\n",
      "Amount                 6.04\n",
      "ship-city              0.03\n",
      "ship-state             0.03\n",
      "ship-postal-code       0.03\n",
      "ship-country           0.03\n",
      "promotion-ids         38.11\n",
      "B2B                    0.00\n",
      "fulfilled-by          69.55\n",
      "Unnamed: 22           38.03\n",
      "dtype: float64\n"
     ]
    }
   ],
   "source": [
    "\n",
    "#print(\"Data at a glance:\\n\", df.head(), \"\\n\")\n",
    "print(\"Data is from \" + salesDf.Date.min() + \" to \" + salesDf.Date.max(), \"\\n\")\n",
    "\n",
    "print(\"Rows:\", salesDf.shape[0])\n",
    "print(\"Columns:\", salesDf.shape[1])\n",
    "print(salesDf.columns.tolist(), \"\\n\")\n",
    "\n",
    "print(\"Percentage of missing or null values in each column: \")\n",
    "print(((salesDf.isna().sum() / len(salesDf)) * 100).round(2))"
   ]
  },
  {
   "cell_type": "code",
   "execution_count": 3,
   "id": "bb21af06-23cb-4c66-ac1a-e5eb981c5d6d",
   "metadata": {},
   "outputs": [
    {
     "data": {
      "text/plain": [
       "index                 [0, 1, 2, 3, 4, 5, 6, 7, 8, 9, 10, 11, 12, 13,...\n",
       "Order ID              [405-8078784-5731545, 171-9198151-1101146, 404...\n",
       "Date                  [04-30-22, 04-29-22, 04-28-22, 04-27-22, 04-26...\n",
       "Status                [Cancelled, Shipped - Delivered to Buyer, Ship...\n",
       "Fulfilment                                           [Merchant, Amazon]\n",
       "Sales Channel                                   [Amazon.in, Non-Amazon]\n",
       "ship-service-level                                [Standard, Expedited]\n",
       "Style                 [SET389, JNE3781, JNE3371, J0341, JNE3671, SET...\n",
       "SKU                   [SET389-KR-NP-S, JNE3781-KR-XXXL, JNE3371-KR-X...\n",
       "Category              [Set, kurta, Western Dress, Top, Ethnic Dress,...\n",
       "Size                   [S, 3XL, XL, L, XXL, XS, 6XL, M, 4XL, 5XL, Free]\n",
       "ASIN                  [B09KXVBD7Z, B09K3WFS32, B07WV4JV4D, B099NRCT7...\n",
       "Courier Status                     [nan, Shipped, Cancelled, Unshipped]\n",
       "Qty                                    [0, 1, 2, 15, 3, 9, 13, 5, 4, 8]\n",
       "currency                                                     [INR, nan]\n",
       "Amount                [647.62, 406.0, 329.0, 753.33, 574.0, 824.0, 6...\n",
       "ship-city             [MUMBAI, BENGALURU, NAVI MUMBAI, PUDUCHERRY, C...\n",
       "ship-state            [MAHARASHTRA, KARNATAKA, PUDUCHERRY, TAMIL NAD...\n",
       "ship-postal-code      [400081.0, 560085.0, 410210.0, 605008.0, 60007...\n",
       "ship-country                                                  [IN, nan]\n",
       "promotion-ids         [nan, Amazon PLCC Free-Financing Universal Mer...\n",
       "B2B                                                       [False, True]\n",
       "fulfilled-by                                           [Easy Ship, nan]\n",
       "Unnamed: 22                                                [nan, False]\n",
       "dtype: object"
      ]
     },
     "execution_count": 3,
     "metadata": {},
     "output_type": "execute_result"
    }
   ],
   "source": [
    "salesDf.apply(pd.unique)"
   ]
  },
  {
   "cell_type": "markdown",
   "id": "97d3ad8e-4b41-44fd-873b-2bfb6796fc3f",
   "metadata": {},
   "source": [
    "The column 'Unnamed: 22' will be removed due to a lack of context regarding its meaning.\n",
    "\n",
    "The 'Currency' column contains either INR or NaN, which is unnecessary since this is a domestic dataset, and all transactions are in INR. Similarly, 'ship-country' is always IN or NaN, making it redundant in the context of domestic sales. The 'Sales Channel' column consistently shows Amazon.in or NaN, so it too is not essential. The 'Fulfilled-by' column always lists Easy Ship or NaN, and as this is the standard fulfillment method for the dataset, it can be removed as well.\n",
    "\n",
    "Further clarification is needed to distinguish between \"Status\" and \"Courier Status.\" It is possible that one reflects Amazon's status and the other represents the courier's status. Additional context would help clarify this distinction."
   ]
  },
  {
   "cell_type": "code",
   "execution_count": 4,
   "id": "135229f2-0728-47df-995a-9ae6c8a9d9c1",
   "metadata": {},
   "outputs": [
    {
     "name": "stderr",
     "output_type": "stream",
     "text": [
      "C:\\Users\\siche\\AppData\\Local\\Temp\\ipykernel_18408\\1000369906.py:12: UserWarning: Could not infer format, so each element will be parsed individually, falling back to `dateutil`. To ensure parsing is consistent and as-expected, please specify a format.\n",
      "  salesDf['Date'] = pd.to_datetime(salesDf['Date'])\n"
     ]
    },
    {
     "data": {
      "text/html": [
       "<div>\n",
       "<style scoped>\n",
       "    .dataframe tbody tr th:only-of-type {\n",
       "        vertical-align: middle;\n",
       "    }\n",
       "\n",
       "    .dataframe tbody tr th {\n",
       "        vertical-align: top;\n",
       "    }\n",
       "\n",
       "    .dataframe thead th {\n",
       "        text-align: right;\n",
       "    }\n",
       "</style>\n",
       "<table border=\"1\" class=\"dataframe\">\n",
       "  <thead>\n",
       "    <tr style=\"text-align: right;\">\n",
       "      <th></th>\n",
       "      <th>Order ID</th>\n",
       "      <th>Date</th>\n",
       "      <th>Status</th>\n",
       "      <th>Fulfilment</th>\n",
       "      <th>ship-service-level</th>\n",
       "      <th>Style</th>\n",
       "      <th>SKU</th>\n",
       "      <th>Category</th>\n",
       "      <th>Size</th>\n",
       "      <th>ASIN</th>\n",
       "      <th>Courier Status</th>\n",
       "      <th>Qty</th>\n",
       "      <th>Amount</th>\n",
       "      <th>ship-city</th>\n",
       "      <th>ship-state</th>\n",
       "      <th>ship-postal-code</th>\n",
       "      <th>B2B</th>\n",
       "    </tr>\n",
       "  </thead>\n",
       "  <tbody>\n",
       "    <tr>\n",
       "      <th>0</th>\n",
       "      <td>405-8078784-5731545</td>\n",
       "      <td>2022-04-30</td>\n",
       "      <td>Cancelled</td>\n",
       "      <td>Merchant</td>\n",
       "      <td>Standard</td>\n",
       "      <td>SET389</td>\n",
       "      <td>SET389-KR-NP-S</td>\n",
       "      <td>Set</td>\n",
       "      <td>S</td>\n",
       "      <td>B09KXVBD7Z</td>\n",
       "      <td>NaN</td>\n",
       "      <td>0</td>\n",
       "      <td>647.62</td>\n",
       "      <td>MUMBAI</td>\n",
       "      <td>MAHARASHTRA</td>\n",
       "      <td>400081.0</td>\n",
       "      <td>False</td>\n",
       "    </tr>\n",
       "    <tr>\n",
       "      <th>1</th>\n",
       "      <td>171-9198151-1101146</td>\n",
       "      <td>2022-04-30</td>\n",
       "      <td>Shipped - Delivered to Buyer</td>\n",
       "      <td>Merchant</td>\n",
       "      <td>Standard</td>\n",
       "      <td>JNE3781</td>\n",
       "      <td>JNE3781-KR-XXXL</td>\n",
       "      <td>kurta</td>\n",
       "      <td>3XL</td>\n",
       "      <td>B09K3WFS32</td>\n",
       "      <td>Shipped</td>\n",
       "      <td>1</td>\n",
       "      <td>406.00</td>\n",
       "      <td>BENGALURU</td>\n",
       "      <td>KARNATAKA</td>\n",
       "      <td>560085.0</td>\n",
       "      <td>False</td>\n",
       "    </tr>\n",
       "    <tr>\n",
       "      <th>2</th>\n",
       "      <td>404-0687676-7273146</td>\n",
       "      <td>2022-04-30</td>\n",
       "      <td>Shipped</td>\n",
       "      <td>Amazon</td>\n",
       "      <td>Expedited</td>\n",
       "      <td>JNE3371</td>\n",
       "      <td>JNE3371-KR-XL</td>\n",
       "      <td>kurta</td>\n",
       "      <td>XL</td>\n",
       "      <td>B07WV4JV4D</td>\n",
       "      <td>Shipped</td>\n",
       "      <td>1</td>\n",
       "      <td>329.00</td>\n",
       "      <td>NAVI MUMBAI</td>\n",
       "      <td>MAHARASHTRA</td>\n",
       "      <td>410210.0</td>\n",
       "      <td>True</td>\n",
       "    </tr>\n",
       "    <tr>\n",
       "      <th>3</th>\n",
       "      <td>403-9615377-8133951</td>\n",
       "      <td>2022-04-30</td>\n",
       "      <td>Cancelled</td>\n",
       "      <td>Merchant</td>\n",
       "      <td>Standard</td>\n",
       "      <td>J0341</td>\n",
       "      <td>J0341-DR-L</td>\n",
       "      <td>Western Dress</td>\n",
       "      <td>L</td>\n",
       "      <td>B099NRCT7B</td>\n",
       "      <td>NaN</td>\n",
       "      <td>0</td>\n",
       "      <td>753.33</td>\n",
       "      <td>PUDUCHERRY</td>\n",
       "      <td>PUDUCHERRY</td>\n",
       "      <td>605008.0</td>\n",
       "      <td>False</td>\n",
       "    </tr>\n",
       "    <tr>\n",
       "      <th>4</th>\n",
       "      <td>407-1069790-7240320</td>\n",
       "      <td>2022-04-30</td>\n",
       "      <td>Shipped</td>\n",
       "      <td>Amazon</td>\n",
       "      <td>Expedited</td>\n",
       "      <td>JNE3671</td>\n",
       "      <td>JNE3671-TU-XXXL</td>\n",
       "      <td>Top</td>\n",
       "      <td>3XL</td>\n",
       "      <td>B098714BZP</td>\n",
       "      <td>Shipped</td>\n",
       "      <td>1</td>\n",
       "      <td>574.00</td>\n",
       "      <td>CHENNAI</td>\n",
       "      <td>TAMIL NADU</td>\n",
       "      <td>600073.0</td>\n",
       "      <td>False</td>\n",
       "    </tr>\n",
       "  </tbody>\n",
       "</table>\n",
       "</div>"
      ],
      "text/plain": [
       "              Order ID       Date                        Status Fulfilment  \\\n",
       "0  405-8078784-5731545 2022-04-30                     Cancelled   Merchant   \n",
       "1  171-9198151-1101146 2022-04-30  Shipped - Delivered to Buyer   Merchant   \n",
       "2  404-0687676-7273146 2022-04-30                       Shipped     Amazon   \n",
       "3  403-9615377-8133951 2022-04-30                     Cancelled   Merchant   \n",
       "4  407-1069790-7240320 2022-04-30                       Shipped     Amazon   \n",
       "\n",
       "  ship-service-level    Style              SKU       Category Size  \\\n",
       "0           Standard   SET389   SET389-KR-NP-S            Set    S   \n",
       "1           Standard  JNE3781  JNE3781-KR-XXXL          kurta  3XL   \n",
       "2          Expedited  JNE3371    JNE3371-KR-XL          kurta   XL   \n",
       "3           Standard    J0341       J0341-DR-L  Western Dress    L   \n",
       "4          Expedited  JNE3671  JNE3671-TU-XXXL            Top  3XL   \n",
       "\n",
       "         ASIN Courier Status  Qty  Amount    ship-city   ship-state  \\\n",
       "0  B09KXVBD7Z            NaN    0  647.62       MUMBAI  MAHARASHTRA   \n",
       "1  B09K3WFS32        Shipped    1  406.00    BENGALURU    KARNATAKA   \n",
       "2  B07WV4JV4D        Shipped    1  329.00  NAVI MUMBAI  MAHARASHTRA   \n",
       "3  B099NRCT7B            NaN    0  753.33   PUDUCHERRY   PUDUCHERRY   \n",
       "4  B098714BZP        Shipped    1  574.00      CHENNAI   TAMIL NADU   \n",
       "\n",
       "   ship-postal-code    B2B  \n",
       "0          400081.0  False  \n",
       "1          560085.0  False  \n",
       "2          410210.0   True  \n",
       "3          605008.0  False  \n",
       "4          600073.0  False  "
      ]
     },
     "execution_count": 4,
     "metadata": {},
     "output_type": "execute_result"
    }
   ],
   "source": [
    "salesDf.columns = salesDf.columns.str.strip()\n",
    "\n",
    "salesDf = salesDf.drop('Unnamed: 22', axis=1)\n",
    "salesDf = salesDf.drop('index', axis=1)\n",
    "salesDf = salesDf.drop('ship-country', axis=1)\n",
    "salesDf = salesDf.drop('currency', axis=1)\n",
    "salesDf = salesDf.drop('fulfilled-by', axis=1)\n",
    "salesDf = salesDf.drop('promotion-ids', axis=1)\n",
    "salesDf = salesDf.drop('Sales Channel', axis=1)\n",
    "\n",
    "pd.set_option('display.max_columns', None)\n",
    "salesDf['Date'] = pd.to_datetime(salesDf['Date'])\n",
    "salesDf.head()"
   ]
  },
  {
   "cell_type": "markdown",
   "id": "e77f7af1-ea8c-4b89-8da0-cdb15a0bec2b",
   "metadata": {},
   "source": [
    "# Clean International Sales Data"
   ]
  },
  {
   "cell_type": "markdown",
   "id": "f41e1971-ad5a-4bd8-b8eb-f9653638c542",
   "metadata": {},
   "source": [
    "The file appears to consist of four distinct sheets. Sheet 1 spans rows 0 to 18,634 and contains the following columns: index, date, months, customer, style, SKU, size, pcs (pieces), rate, and gross amount. Sheet 2 covers rows 18,635 to 18,659 and contains only the SKU column. Sheet 3 spans rows 18,635 to 19,673 and includes columns for style and stock. Sheet 4 covers rows 19,674 to 37,430 and includes columns: index, date, months, style, SKU, pcs (pieces), rate, gross amount, and stock.\n",
    "\n",
    "Sheets 1 and 4 will be combined since they are almost identical, differing by only one column. Sheet 2 does not add value and will be removed. While Sheet 3 provides some inventory information for styles, the absence of a date makes this data less useful."
   ]
  },
  {
   "cell_type": "code",
   "execution_count": 5,
   "id": "b94c8cb8-0bd5-4d7d-a383-e48973c47cb6",
   "metadata": {},
   "outputs": [],
   "source": [
    "intSalesDf = intSalesDf.drop('index', axis=1)\n",
    "\n",
    "df1 = intSalesDf.iloc[0:18635]\n",
    "SKUSeries = intSalesDf.iloc[18636:18659]\n",
    "SKUSeries = SKUSeries[['DATE']]\n",
    "SKUSeries.columns = ['SKU']\n",
    "intSalesStockDf = intSalesDf.iloc[18661:19675]\n",
    "intSalesStockDf = intSalesStockDf[['DATE', 'Months']]\n",
    "intSalesStockDf.columns = ['Style', 'Stock']\n",
    "df4 = intSalesDf.iloc[19676:37432]\n",
    "df4.columns = ['CUSTOMER', 'DATE', 'Months', 'Style', 'SKU', 'PCS', 'RATE', 'GROSS AMT', 'Stock']"
   ]
  },
  {
   "cell_type": "code",
   "execution_count": 6,
   "id": "bbfd6335-121e-470c-a7e6-03b032efc72e",
   "metadata": {},
   "outputs": [
    {
     "data": {
      "text/html": [
       "<div>\n",
       "<style scoped>\n",
       "    .dataframe tbody tr th:only-of-type {\n",
       "        vertical-align: middle;\n",
       "    }\n",
       "\n",
       "    .dataframe tbody tr th {\n",
       "        vertical-align: top;\n",
       "    }\n",
       "\n",
       "    .dataframe thead th {\n",
       "        text-align: right;\n",
       "    }\n",
       "</style>\n",
       "<table border=\"1\" class=\"dataframe\">\n",
       "  <thead>\n",
       "    <tr style=\"text-align: right;\">\n",
       "      <th></th>\n",
       "      <th>DATE</th>\n",
       "      <th>Months</th>\n",
       "      <th>CUSTOMER</th>\n",
       "      <th>Style</th>\n",
       "      <th>SKU</th>\n",
       "      <th>Size</th>\n",
       "      <th>PCS</th>\n",
       "      <th>RATE</th>\n",
       "      <th>GROSS AMT</th>\n",
       "      <th>Stock</th>\n",
       "    </tr>\n",
       "  </thead>\n",
       "  <tbody>\n",
       "    <tr>\n",
       "      <th>0</th>\n",
       "      <td>06-05-21</td>\n",
       "      <td>Jun-21</td>\n",
       "      <td>REVATHY LOGANATHAN</td>\n",
       "      <td>MEN5004</td>\n",
       "      <td>MEN5004-KR-L</td>\n",
       "      <td>L</td>\n",
       "      <td>1.00</td>\n",
       "      <td>616.56</td>\n",
       "      <td>617.00</td>\n",
       "      <td>NaN</td>\n",
       "    </tr>\n",
       "    <tr>\n",
       "      <th>1</th>\n",
       "      <td>06-05-21</td>\n",
       "      <td>Jun-21</td>\n",
       "      <td>REVATHY LOGANATHAN</td>\n",
       "      <td>MEN5004</td>\n",
       "      <td>MEN5004-KR-XL</td>\n",
       "      <td>XL</td>\n",
       "      <td>1.00</td>\n",
       "      <td>616.56</td>\n",
       "      <td>617.00</td>\n",
       "      <td>NaN</td>\n",
       "    </tr>\n",
       "    <tr>\n",
       "      <th>2</th>\n",
       "      <td>06-05-21</td>\n",
       "      <td>Jun-21</td>\n",
       "      <td>REVATHY LOGANATHAN</td>\n",
       "      <td>MEN5004</td>\n",
       "      <td>MEN5004-KR-XXL</td>\n",
       "      <td>XXL</td>\n",
       "      <td>1.00</td>\n",
       "      <td>616.56</td>\n",
       "      <td>617.00</td>\n",
       "      <td>NaN</td>\n",
       "    </tr>\n",
       "    <tr>\n",
       "      <th>3</th>\n",
       "      <td>06-05-21</td>\n",
       "      <td>Jun-21</td>\n",
       "      <td>REVATHY LOGANATHAN</td>\n",
       "      <td>MEN5009</td>\n",
       "      <td>MEN5009-KR-L</td>\n",
       "      <td>L</td>\n",
       "      <td>1.00</td>\n",
       "      <td>616.56</td>\n",
       "      <td>617.00</td>\n",
       "      <td>NaN</td>\n",
       "    </tr>\n",
       "    <tr>\n",
       "      <th>4</th>\n",
       "      <td>06-05-21</td>\n",
       "      <td>Jun-21</td>\n",
       "      <td>REVATHY LOGANATHAN</td>\n",
       "      <td>MEN5011</td>\n",
       "      <td>MEN5011-KR-L</td>\n",
       "      <td>L</td>\n",
       "      <td>1.00</td>\n",
       "      <td>616.56</td>\n",
       "      <td>617.00</td>\n",
       "      <td>NaN</td>\n",
       "    </tr>\n",
       "  </tbody>\n",
       "</table>\n",
       "</div>"
      ],
      "text/plain": [
       "       DATE  Months            CUSTOMER    Style             SKU Size   PCS  \\\n",
       "0  06-05-21  Jun-21  REVATHY LOGANATHAN  MEN5004    MEN5004-KR-L    L  1.00   \n",
       "1  06-05-21  Jun-21  REVATHY LOGANATHAN  MEN5004   MEN5004-KR-XL   XL  1.00   \n",
       "2  06-05-21  Jun-21  REVATHY LOGANATHAN  MEN5004  MEN5004-KR-XXL  XXL  1.00   \n",
       "3  06-05-21  Jun-21  REVATHY LOGANATHAN  MEN5009    MEN5009-KR-L    L  1.00   \n",
       "4  06-05-21  Jun-21  REVATHY LOGANATHAN  MEN5011    MEN5011-KR-L    L  1.00   \n",
       "\n",
       "     RATE GROSS AMT Stock  \n",
       "0  616.56    617.00   NaN  \n",
       "1  616.56    617.00   NaN  \n",
       "2  616.56    617.00   NaN  \n",
       "3  616.56    617.00   NaN  \n",
       "4  616.56    617.00   NaN  "
      ]
     },
     "execution_count": 6,
     "metadata": {},
     "output_type": "execute_result"
    }
   ],
   "source": [
    "intSalesDf = pd.concat([df1, df4])\n",
    "intSalesDf.reset_index(drop=True, inplace=True)\n",
    "intSalesDf.head()"
   ]
  },
  {
   "cell_type": "code",
   "execution_count": 7,
   "id": "150ee78c-22a0-46e1-b4bc-7d6f16d21c1a",
   "metadata": {},
   "outputs": [
    {
     "name": "stdout",
     "output_type": "stream",
     "text": [
      "Data is from 2021-06-05 to 2022-05-11\n",
      "Rows: 36391\n",
      "Columns: 10\n",
      "['DATE', 'Months', 'CUSTOMER', 'Style', 'SKU', 'Size', 'PCS', 'RATE', 'GROSS AMT', 'Stock'] \n",
      "\n",
      "Percentage of missing or null values in each column: \n",
      "DATE          0.00\n",
      "Months        0.00\n",
      "CUSTOMER      0.00\n",
      "Style         0.00\n",
      "SKU           3.94\n",
      "Size         48.79\n",
      "PCS           0.00\n",
      "RATE          0.00\n",
      "GROSS AMT     0.00\n",
      "Stock        51.21\n",
      "dtype: float64\n"
     ]
    },
    {
     "name": "stderr",
     "output_type": "stream",
     "text": [
      "C:\\Users\\siche\\AppData\\Local\\Temp\\ipykernel_18408\\3126328267.py:2: UserWarning: Could not infer format, so each element will be parsed individually, falling back to `dateutil`. To ensure parsing is consistent and as-expected, please specify a format.\n",
      "  intSalesDf['DATE'] = pd.to_datetime(intSalesDf['DATE'], errors='coerce')\n"
     ]
    }
   ],
   "source": [
    "intSalesDf = intSalesDf[intSalesDf['DATE'].apply(lambda x: isinstance(x, str))]\n",
    "intSalesDf['DATE'] = pd.to_datetime(intSalesDf['DATE'], errors='coerce')\n",
    "print(\"Data is from \" + intSalesDf['DATE'].min().strftime('%Y-%m-%d') + \" to \" + intSalesDf['DATE'].max().strftime('%Y-%m-%d'))\n",
    "\n",
    "print(\"Rows:\", intSalesDf.shape[0])\n",
    "columns_list = intSalesDf.columns.tolist()\n",
    "print(\"Columns:\", len(columns_list))\n",
    "print(columns_list, \"\\n\")\n",
    "\n",
    "print(\"Percentage of missing or null values in each column: \")\n",
    "print(((intSalesDf.isna().sum() / len(intSalesDf)) * 100).round(2))"
   ]
  },
  {
   "cell_type": "code",
   "execution_count": 8,
   "id": "9eba2035-4fe5-4d9c-9ac7-80e1d38ea750",
   "metadata": {},
   "outputs": [
    {
     "data": {
      "text/html": [
       "<div>\n",
       "<style scoped>\n",
       "    .dataframe tbody tr th:only-of-type {\n",
       "        vertical-align: middle;\n",
       "    }\n",
       "\n",
       "    .dataframe tbody tr th {\n",
       "        vertical-align: top;\n",
       "    }\n",
       "\n",
       "    .dataframe thead th {\n",
       "        text-align: right;\n",
       "    }\n",
       "</style>\n",
       "<table border=\"1\" class=\"dataframe\">\n",
       "  <thead>\n",
       "    <tr style=\"text-align: right;\">\n",
       "      <th></th>\n",
       "      <th>DATE</th>\n",
       "      <th>Months</th>\n",
       "      <th>CUSTOMER</th>\n",
       "      <th>Style</th>\n",
       "      <th>SKU</th>\n",
       "      <th>Size</th>\n",
       "      <th>PCS</th>\n",
       "      <th>RATE</th>\n",
       "      <th>GROSS AMT</th>\n",
       "      <th>Stock</th>\n",
       "    </tr>\n",
       "  </thead>\n",
       "  <tbody>\n",
       "    <tr>\n",
       "      <th>0</th>\n",
       "      <td>2021-06-05</td>\n",
       "      <td>Jun-21</td>\n",
       "      <td>REVATHY LOGANATHAN</td>\n",
       "      <td>MEN5004</td>\n",
       "      <td>MEN5004-KR-L</td>\n",
       "      <td>L</td>\n",
       "      <td>1.00</td>\n",
       "      <td>616.56</td>\n",
       "      <td>617.00</td>\n",
       "      <td>NaN</td>\n",
       "    </tr>\n",
       "    <tr>\n",
       "      <th>1</th>\n",
       "      <td>2021-06-05</td>\n",
       "      <td>Jun-21</td>\n",
       "      <td>REVATHY LOGANATHAN</td>\n",
       "      <td>MEN5004</td>\n",
       "      <td>MEN5004-KR-XL</td>\n",
       "      <td>XL</td>\n",
       "      <td>1.00</td>\n",
       "      <td>616.56</td>\n",
       "      <td>617.00</td>\n",
       "      <td>NaN</td>\n",
       "    </tr>\n",
       "    <tr>\n",
       "      <th>2</th>\n",
       "      <td>2021-06-05</td>\n",
       "      <td>Jun-21</td>\n",
       "      <td>REVATHY LOGANATHAN</td>\n",
       "      <td>MEN5004</td>\n",
       "      <td>MEN5004-KR-XXL</td>\n",
       "      <td>XXL</td>\n",
       "      <td>1.00</td>\n",
       "      <td>616.56</td>\n",
       "      <td>617.00</td>\n",
       "      <td>NaN</td>\n",
       "    </tr>\n",
       "    <tr>\n",
       "      <th>3</th>\n",
       "      <td>2021-06-05</td>\n",
       "      <td>Jun-21</td>\n",
       "      <td>REVATHY LOGANATHAN</td>\n",
       "      <td>MEN5009</td>\n",
       "      <td>MEN5009-KR-L</td>\n",
       "      <td>L</td>\n",
       "      <td>1.00</td>\n",
       "      <td>616.56</td>\n",
       "      <td>617.00</td>\n",
       "      <td>NaN</td>\n",
       "    </tr>\n",
       "    <tr>\n",
       "      <th>4</th>\n",
       "      <td>2021-06-05</td>\n",
       "      <td>Jun-21</td>\n",
       "      <td>REVATHY LOGANATHAN</td>\n",
       "      <td>MEN5011</td>\n",
       "      <td>MEN5011-KR-L</td>\n",
       "      <td>L</td>\n",
       "      <td>1.00</td>\n",
       "      <td>616.56</td>\n",
       "      <td>617.00</td>\n",
       "      <td>NaN</td>\n",
       "    </tr>\n",
       "  </tbody>\n",
       "</table>\n",
       "</div>"
      ],
      "text/plain": [
       "        DATE  Months            CUSTOMER    Style             SKU Size   PCS  \\\n",
       "0 2021-06-05  Jun-21  REVATHY LOGANATHAN  MEN5004    MEN5004-KR-L    L  1.00   \n",
       "1 2021-06-05  Jun-21  REVATHY LOGANATHAN  MEN5004   MEN5004-KR-XL   XL  1.00   \n",
       "2 2021-06-05  Jun-21  REVATHY LOGANATHAN  MEN5004  MEN5004-KR-XXL  XXL  1.00   \n",
       "3 2021-06-05  Jun-21  REVATHY LOGANATHAN  MEN5009    MEN5009-KR-L    L  1.00   \n",
       "4 2021-06-05  Jun-21  REVATHY LOGANATHAN  MEN5011    MEN5011-KR-L    L  1.00   \n",
       "\n",
       "     RATE GROSS AMT Stock  \n",
       "0  616.56    617.00   NaN  \n",
       "1  616.56    617.00   NaN  \n",
       "2  616.56    617.00   NaN  \n",
       "3  616.56    617.00   NaN  \n",
       "4  616.56    617.00   NaN  "
      ]
     },
     "execution_count": 8,
     "metadata": {},
     "output_type": "execute_result"
    }
   ],
   "source": [
    "intSalesDf.apply(pd.unique)\n",
    "intSalesDf.head()"
   ]
  },
  {
   "cell_type": "markdown",
   "id": "6ae101e5-bac3-488c-aa95-62f73f21d2e8",
   "metadata": {},
   "source": [
    "# Clean Product Inforamtion Data"
   ]
  },
  {
   "cell_type": "code",
   "execution_count": 9,
   "id": "4f6ef976-099c-4058-b8cb-266d33c0adf6",
   "metadata": {},
   "outputs": [
    {
     "name": "stdout",
     "output_type": "stream",
     "text": [
      "Rows: 9271\n",
      "Columns: 7\n",
      "['index', 'SKU Code', 'Design No.', 'Stock', 'Category', 'Size', 'Color'] \n",
      "\n",
      "Percentage of missing or null values in each column: \n",
      "index         0.00\n",
      "SKU Code      0.90\n",
      "Design No.    0.39\n",
      "Stock         0.39\n",
      "Category      0.49\n",
      "Size          0.39\n",
      "Color         0.49\n",
      "dtype: float64\n"
     ]
    }
   ],
   "source": [
    "print(\"Rows:\", productsDf.shape[0])\n",
    "columns_list = productsDf.columns.tolist()\n",
    "print(\"Columns:\", len(columns_list))\n",
    "print(columns_list, \"\\n\")\n",
    "\n",
    "print(\"Percentage of missing or null values in each column: \")\n",
    "print(((productsDf.isna().sum() / len(productsDf)) * 100).round(2))"
   ]
  },
  {
   "cell_type": "code",
   "execution_count": 10,
   "id": "60e1e12a-941d-49cf-9819-4b94839bc4d3",
   "metadata": {},
   "outputs": [
    {
     "data": {
      "text/plain": [
       "index         [0, 1, 2, 3, 4, 5, 6, 7, 8, 9, 10, 11, 12, 13,...\n",
       "SKU Code      [AN201-RED-L, AN201-RED-M, AN201-RED-S, AN201-...\n",
       "Design No.    [AN201, AN202, AN203, AN204, AN205, AN206, AN2...\n",
       "Stock         [5.0, 3.0, 6.0, 11.0, 16.0, 8.0, 14.0, 1.0, 2....\n",
       "Category      [AN : LEGGINGS, BLOUSE, PANT, BOTTOM, PALAZZO,...\n",
       "Size          [L, M, S, XL, XXL, FREE, XS, XXXL, 4XL, 5XL, 6...\n",
       "Color         [Red, Orange, Maroon, Purple, Yellow, Green, P...\n",
       "dtype: object"
      ]
     },
     "execution_count": 10,
     "metadata": {},
     "output_type": "execute_result"
    }
   ],
   "source": [
    "productsDf.apply(pd.unique)"
   ]
  },
  {
   "cell_type": "markdown",
   "id": "cf62800c-7254-4dac-9ca3-c350972df1d9",
   "metadata": {},
   "source": [
    "After row 9234, all rows will be removed as they are empty and do not contribute any meaningful data. Several columns will be renamed for consistency across files: 'Design No.' will be changed to 'Style' to match the India Sales File, and 'SKU Code' will be renamed to 'SKU' to align with the other two files. Unfortunately, the absence of date information in the dataset limits the usefulness of the 'Stock' column, as without a temporal context, it becomes challenging to track inventory changes or analyze stock levels effectively."
   ]
  },
  {
   "cell_type": "code",
   "execution_count": 11,
   "id": "e7c62534-6dec-49ae-996d-95f5a90c8a35",
   "metadata": {},
   "outputs": [
    {
     "data": {
      "text/html": [
       "<div>\n",
       "<style scoped>\n",
       "    .dataframe tbody tr th:only-of-type {\n",
       "        vertical-align: middle;\n",
       "    }\n",
       "\n",
       "    .dataframe tbody tr th {\n",
       "        vertical-align: top;\n",
       "    }\n",
       "\n",
       "    .dataframe thead th {\n",
       "        text-align: right;\n",
       "    }\n",
       "</style>\n",
       "<table border=\"1\" class=\"dataframe\">\n",
       "  <thead>\n",
       "    <tr style=\"text-align: right;\">\n",
       "      <th></th>\n",
       "      <th>SKU</th>\n",
       "      <th>Style</th>\n",
       "      <th>Stock</th>\n",
       "      <th>Category</th>\n",
       "      <th>Size</th>\n",
       "      <th>Color</th>\n",
       "    </tr>\n",
       "  </thead>\n",
       "  <tbody>\n",
       "    <tr>\n",
       "      <th>0</th>\n",
       "      <td>AN201-RED-L</td>\n",
       "      <td>AN201</td>\n",
       "      <td>5.0</td>\n",
       "      <td>AN : LEGGINGS</td>\n",
       "      <td>L</td>\n",
       "      <td>Red</td>\n",
       "    </tr>\n",
       "    <tr>\n",
       "      <th>1</th>\n",
       "      <td>AN201-RED-M</td>\n",
       "      <td>AN201</td>\n",
       "      <td>5.0</td>\n",
       "      <td>AN : LEGGINGS</td>\n",
       "      <td>M</td>\n",
       "      <td>Red</td>\n",
       "    </tr>\n",
       "    <tr>\n",
       "      <th>2</th>\n",
       "      <td>AN201-RED-S</td>\n",
       "      <td>AN201</td>\n",
       "      <td>3.0</td>\n",
       "      <td>AN : LEGGINGS</td>\n",
       "      <td>S</td>\n",
       "      <td>Red</td>\n",
       "    </tr>\n",
       "    <tr>\n",
       "      <th>3</th>\n",
       "      <td>AN201-RED-XL</td>\n",
       "      <td>AN201</td>\n",
       "      <td>6.0</td>\n",
       "      <td>AN : LEGGINGS</td>\n",
       "      <td>XL</td>\n",
       "      <td>Red</td>\n",
       "    </tr>\n",
       "    <tr>\n",
       "      <th>4</th>\n",
       "      <td>AN201-RED-XXL</td>\n",
       "      <td>AN201</td>\n",
       "      <td>3.0</td>\n",
       "      <td>AN : LEGGINGS</td>\n",
       "      <td>XXL</td>\n",
       "      <td>Red</td>\n",
       "    </tr>\n",
       "  </tbody>\n",
       "</table>\n",
       "</div>"
      ],
      "text/plain": [
       "             SKU  Style  Stock       Category Size Color\n",
       "0    AN201-RED-L  AN201    5.0  AN : LEGGINGS    L   Red\n",
       "1    AN201-RED-M  AN201    5.0  AN : LEGGINGS    M   Red\n",
       "2    AN201-RED-S  AN201    3.0  AN : LEGGINGS    S   Red\n",
       "3   AN201-RED-XL  AN201    6.0  AN : LEGGINGS   XL   Red\n",
       "4  AN201-RED-XXL  AN201    3.0  AN : LEGGINGS  XXL   Red"
      ]
     },
     "execution_count": 11,
     "metadata": {},
     "output_type": "execute_result"
    }
   ],
   "source": [
    "productsDf = productsDf.drop('index', axis=1)\n",
    "productsDf.rename(columns={'SKU Code': 'SKU'}, inplace=True)\n",
    "productsDf.rename(columns={'Design No.': 'Style'}, inplace=True)\n",
    "productsDf = productsDf.iloc[0:9235]\n",
    "productsDf.head()"
   ]
  },
  {
   "cell_type": "markdown",
   "id": "ed3ff828-09f3-4c70-8ae4-b95adc0bd06f",
   "metadata": {},
   "source": [
    "# Export Data"
   ]
  },
  {
   "cell_type": "code",
   "execution_count": 12,
   "id": "1e03ed2c-4508-46e1-b870-239975a6452a",
   "metadata": {},
   "outputs": [],
   "source": [
    "productsDf.to_csv('products.csv',index=False)\n",
    "intSalesDf.to_csv('international_sales.csv',index=False)\n",
    "salesDf.to_csv('local_sales.csv',index=False)"
   ]
  },
  {
   "cell_type": "code",
   "execution_count": 13,
   "id": "3c9ee0f2-48a1-419e-8a06-dd17112e3f45",
   "metadata": {},
   "outputs": [
    {
     "name": "stdout",
     "output_type": "stream",
     "text": [
      "C:\\Users\\siche\\Desktop\\projects\\e_commerce\\Notebook\n"
     ]
    }
   ],
   "source": [
    "import os\n",
    "print(os.getcwd())"
   ]
  },
  {
   "cell_type": "code",
   "execution_count": 14,
   "id": "4580e09e-d257-41cf-9ced-fcc27d668551",
   "metadata": {},
   "outputs": [
    {
     "name": "stdout",
     "output_type": "stream",
     "text": [
      "DATE         datetime64[ns]\n",
      "Months               object\n",
      "CUSTOMER             object\n",
      "Style                object\n",
      "SKU                  object\n",
      "Size                 object\n",
      "PCS                  object\n",
      "RATE                 object\n",
      "GROSS AMT            object\n",
      "Stock                object\n",
      "dtype: object\n"
     ]
    }
   ],
   "source": [
    "print(intSalesDf.dtypes)"
   ]
  },
  {
   "cell_type": "code",
   "execution_count": null,
   "id": "19ec1f4d-5677-42e1-bdae-850cb23702ef",
   "metadata": {},
   "outputs": [],
   "source": []
  }
 ],
 "metadata": {
  "kernelspec": {
   "display_name": "Python 3 (ipykernel)",
   "language": "python",
   "name": "python3"
  },
  "language_info": {
   "codemirror_mode": {
    "name": "ipython",
    "version": 3
   },
   "file_extension": ".py",
   "mimetype": "text/x-python",
   "name": "python",
   "nbconvert_exporter": "python",
   "pygments_lexer": "ipython3",
   "version": "3.12.7"
  }
 },
 "nbformat": 4,
 "nbformat_minor": 5
}
